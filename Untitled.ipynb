{
 "cells": [
  {
   "cell_type": "code",
   "execution_count": 33,
   "id": "dab62ad9",
   "metadata": {},
   "outputs": [],
   "source": [
    "#Import Dependencies\n",
    "import random\n",
    "import numpy as np\n",
    "import timeit\n",
    "%timeit"
   ]
  },
  {
   "cell_type": "code",
   "execution_count": 34,
   "id": "ad7dbef9",
   "metadata": {},
   "outputs": [
    {
     "data": {
      "text/plain": [
       "-14"
      ]
     },
     "execution_count": 34,
     "metadata": {},
     "output_type": "execute_result"
    }
   ],
   "source": [
    "random.randint(-90,90)"
   ]
  },
  {
   "cell_type": "code",
   "execution_count": 35,
   "id": "21b6b18f",
   "metadata": {},
   "outputs": [
    {
     "data": {
      "text/plain": [
       "0.31662112021382127"
      ]
     },
     "execution_count": 35,
     "metadata": {},
     "output_type": "execute_result"
    }
   ],
   "source": [
    "random.random()"
   ]
  },
  {
   "cell_type": "code",
   "execution_count": 36,
   "id": "6a43f443",
   "metadata": {},
   "outputs": [
    {
     "data": {
      "text/plain": [
       "58.534454483878065"
      ]
     },
     "execution_count": 36,
     "metadata": {},
     "output_type": "execute_result"
    }
   ],
   "source": [
    "random_number = random.randint(-90,89) + random.random()\n",
    "random_number"
   ]
  },
  {
   "cell_type": "code",
   "execution_count": 37,
   "id": "eaad9566",
   "metadata": {},
   "outputs": [],
   "source": [
    "x = 1\n",
    "latitudes = []\n",
    "while x < 11:\n",
    "    random_lat = random.randint(-90, 89) + random.random()\n",
    "    latitudes.append(random_lat)\n",
    "    x += 1"
   ]
  },
  {
   "cell_type": "code",
   "execution_count": 38,
   "id": "84852cf7",
   "metadata": {},
   "outputs": [
    {
     "data": {
      "text/plain": [
       "[-13.532980843156823,\n",
       " -36.00559468683417,\n",
       " -51.895447995778554,\n",
       " -71.87206295585368,\n",
       " 64.22314660642274,\n",
       " 46.32349729261174,\n",
       " 68.21526757537993,\n",
       " 78.36118721750128,\n",
       " 76.63763684867278,\n",
       " 63.944933583167284]"
      ]
     },
     "execution_count": 38,
     "metadata": {},
     "output_type": "execute_result"
    }
   ],
   "source": [
    "latitudes"
   ]
  },
  {
   "cell_type": "code",
   "execution_count": 39,
   "id": "6c05f0f7",
   "metadata": {},
   "outputs": [
    {
     "data": {
      "text/plain": [
       "36"
      ]
     },
     "execution_count": 39,
     "metadata": {},
     "output_type": "execute_result"
    }
   ],
   "source": [
    "random.randrange(-90, 90, step=1)"
   ]
  },
  {
   "cell_type": "code",
   "execution_count": 40,
   "id": "f71cc4c1",
   "metadata": {},
   "outputs": [
    {
     "data": {
      "text/plain": [
       "75"
      ]
     },
     "execution_count": 40,
     "metadata": {},
     "output_type": "execute_result"
    }
   ],
   "source": [
    "random.randrange(-90, 90, step=3)"
   ]
  },
  {
   "cell_type": "code",
   "execution_count": 41,
   "id": "03ea84fc",
   "metadata": {},
   "outputs": [
    {
     "data": {
      "text/plain": [
       "39.75838917737693"
      ]
     },
     "execution_count": 41,
     "metadata": {},
     "output_type": "execute_result"
    }
   ],
   "source": [
    "random.uniform(-90, 90)"
   ]
  },
  {
   "cell_type": "code",
   "execution_count": 42,
   "id": "7efa1055",
   "metadata": {},
   "outputs": [
    {
     "data": {
      "text/plain": [
       "40.84398360047223"
      ]
     },
     "execution_count": 42,
     "metadata": {},
     "output_type": "execute_result"
    }
   ],
   "source": [
    "np.random.uniform(-90.000, 90.000)"
   ]
  },
  {
   "cell_type": "code",
   "execution_count": 43,
   "id": "4d07e806",
   "metadata": {},
   "outputs": [
    {
     "data": {
      "text/plain": [
       "array([-39.65558842,  87.31865814, -47.71447003,  26.76198839,\n",
       "        63.47914317,  84.95076479,   2.06459028, -38.20851476,\n",
       "       -72.07340992,  71.96043662,  44.20401841,  40.69715093,\n",
       "        48.71625334, -72.56180315, -66.23431366, -66.69791454,\n",
       "        38.61491426,  74.41056589, -47.56945806, -25.69324438,\n",
       "       -28.73051133,  41.52999311, -83.43329116, -76.89532798,\n",
       "         6.34121417,  84.31877808, -46.93361121,  -2.1275722 ,\n",
       "        81.77166267,  34.46575012,  25.99957569,  42.76791162,\n",
       "        20.42702553,   5.69679447,  15.38859683, -82.29654544,\n",
       "       -57.7277778 , -53.10887269,  16.87381452,  11.38458447,\n",
       "       -80.34102849,  55.47231661,  34.5522427 ,  77.60203078,\n",
       "        25.78972375, -54.60204639, -25.90673944, -67.216626  ,\n",
       "         7.93065993,  56.15179078])"
      ]
     },
     "execution_count": 43,
     "metadata": {},
     "output_type": "execute_result"
    }
   ],
   "source": [
    "np.random.uniform(-90.000, 90.000, size = 50)"
   ]
  },
  {
   "cell_type": "code",
   "execution_count": 45,
   "id": "7e4b7947",
   "metadata": {},
   "outputs": [
    {
     "name": "stdout",
     "output_type": "stream",
     "text": [
      "8.99 µs ± 45.1 ns per loop (mean ± std. dev. of 7 runs, 100000 loops each)\n"
     ]
    }
   ],
   "source": [
    "%timeit np.random.uniform(-90.000, 90.000, size=1500)"
   ]
  },
  {
   "cell_type": "code",
   "execution_count": 46,
   "id": "bf28d5c6",
   "metadata": {},
   "outputs": [
    {
     "name": "stdout",
     "output_type": "stream",
     "text": [
      "1.16 ms ± 1.86 µs per loop (mean ± std. dev. of 7 runs, 1000 loops each)\n"
     ]
    }
   ],
   "source": [
    "def latitudes(size):\n",
    "    latitudes = []\n",
    "    x = 0\n",
    "    while x < (size):\n",
    "        random_lat = random.randint(-90, 90) + random.random()\n",
    "        latitudes.append(random_lat)\n",
    "        x += 1\n",
    "    return latitudes\n",
    "# Call the function with 1500.\n",
    "%timeit latitudes(1500)"
   ]
  },
  {
   "cell_type": "code",
   "execution_count": null,
   "id": "20d0b44d",
   "metadata": {},
   "outputs": [],
   "source": []
  }
 ],
 "metadata": {
  "kernelspec": {
   "display_name": "PythonData",
   "language": "python",
   "name": "pythondata"
  },
  "language_info": {
   "codemirror_mode": {
    "name": "ipython",
    "version": 3
   },
   "file_extension": ".py",
   "mimetype": "text/x-python",
   "name": "python",
   "nbconvert_exporter": "python",
   "pygments_lexer": "ipython3",
   "version": "3.7.10"
  }
 },
 "nbformat": 4,
 "nbformat_minor": 5
}
